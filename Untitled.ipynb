{
 "cells": [
  {
   "cell_type": "code",
   "execution_count": 4,
   "id": "e7f2ee10",
   "metadata": {},
   "outputs": [
    {
     "name": "stdout",
     "output_type": "stream",
     "text": [
      "Mời bạn nhập:6.8\n",
      "Không phải số tự nhiên\n"
     ]
    }
   ],
   "source": [
    "number=float(input(\"Mời bạn nhập:\"))\n",
    "if (number%2)==0:\n",
    "    print(\"Số chắn\")\n",
    "elif (number%2)==1:\n",
    "    print(\"Số lẻ\")\n",
    "else:\n",
    "    print(\"Không phải số tự nhiên\")"
   ]
  },
  {
   "cell_type": "code",
   "execution_count": null,
   "id": "cf6c8a64",
   "metadata": {},
   "outputs": [],
   "source": []
  }
 ],
 "metadata": {
  "kernelspec": {
   "display_name": "Python 3 (ipykernel)",
   "language": "python",
   "name": "python3"
  },
  "language_info": {
   "codemirror_mode": {
    "name": "ipython",
    "version": 3
   },
   "file_extension": ".py",
   "mimetype": "text/x-python",
   "name": "python",
   "nbconvert_exporter": "python",
   "pygments_lexer": "ipython3",
   "version": "3.9.12"
  }
 },
 "nbformat": 4,
 "nbformat_minor": 5
}
